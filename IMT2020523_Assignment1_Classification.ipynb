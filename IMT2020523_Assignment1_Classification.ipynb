{
  "nbformat": 4,
  "nbformat_minor": 0,
  "metadata": {
    "colab": {
      "provenance": [],
      "collapsed_sections": []
    },
    "kernelspec": {
      "name": "python3",
      "display_name": "Python 3"
    },
    "language_info": {
      "name": "python"
    }
  },
  "cells": [
    {
      "cell_type": "code",
      "execution_count": 2,
      "metadata": {
        "colab": {
          "base_uri": "https://localhost:8080/",
          "height": 206
        },
        "id": "WvwE6eSnrknm",
        "outputId": "2fe753ef-a75e-4973-cfde-7dfff571fa93"
      },
      "outputs": [
        {
          "output_type": "execute_result",
          "data": {
            "text/plain": [
              "   variance  skewness  curtosis  entropy  class\n",
              "0   3.62160    8.6661   -2.8073 -0.44699      0\n",
              "1   4.54590    8.1674   -2.4586 -1.46210      0\n",
              "2   3.86600   -2.6383    1.9242  0.10645      0\n",
              "3   3.45660    9.5228   -4.0112 -3.59440      0\n",
              "4   0.32924   -4.4552    4.5718 -0.98880      0"
            ],
            "text/html": [
              "\n",
              "  <div id=\"df-2326676f-ec63-4520-8b06-49398d8af793\">\n",
              "    <div class=\"colab-df-container\">\n",
              "      <div>\n",
              "<style scoped>\n",
              "    .dataframe tbody tr th:only-of-type {\n",
              "        vertical-align: middle;\n",
              "    }\n",
              "\n",
              "    .dataframe tbody tr th {\n",
              "        vertical-align: top;\n",
              "    }\n",
              "\n",
              "    .dataframe thead th {\n",
              "        text-align: right;\n",
              "    }\n",
              "</style>\n",
              "<table border=\"1\" class=\"dataframe\">\n",
              "  <thead>\n",
              "    <tr style=\"text-align: right;\">\n",
              "      <th></th>\n",
              "      <th>variance</th>\n",
              "      <th>skewness</th>\n",
              "      <th>curtosis</th>\n",
              "      <th>entropy</th>\n",
              "      <th>class</th>\n",
              "    </tr>\n",
              "  </thead>\n",
              "  <tbody>\n",
              "    <tr>\n",
              "      <th>0</th>\n",
              "      <td>3.62160</td>\n",
              "      <td>8.6661</td>\n",
              "      <td>-2.8073</td>\n",
              "      <td>-0.44699</td>\n",
              "      <td>0</td>\n",
              "    </tr>\n",
              "    <tr>\n",
              "      <th>1</th>\n",
              "      <td>4.54590</td>\n",
              "      <td>8.1674</td>\n",
              "      <td>-2.4586</td>\n",
              "      <td>-1.46210</td>\n",
              "      <td>0</td>\n",
              "    </tr>\n",
              "    <tr>\n",
              "      <th>2</th>\n",
              "      <td>3.86600</td>\n",
              "      <td>-2.6383</td>\n",
              "      <td>1.9242</td>\n",
              "      <td>0.10645</td>\n",
              "      <td>0</td>\n",
              "    </tr>\n",
              "    <tr>\n",
              "      <th>3</th>\n",
              "      <td>3.45660</td>\n",
              "      <td>9.5228</td>\n",
              "      <td>-4.0112</td>\n",
              "      <td>-3.59440</td>\n",
              "      <td>0</td>\n",
              "    </tr>\n",
              "    <tr>\n",
              "      <th>4</th>\n",
              "      <td>0.32924</td>\n",
              "      <td>-4.4552</td>\n",
              "      <td>4.5718</td>\n",
              "      <td>-0.98880</td>\n",
              "      <td>0</td>\n",
              "    </tr>\n",
              "  </tbody>\n",
              "</table>\n",
              "</div>\n",
              "      <button class=\"colab-df-convert\" onclick=\"convertToInteractive('df-2326676f-ec63-4520-8b06-49398d8af793')\"\n",
              "              title=\"Convert this dataframe to an interactive table.\"\n",
              "              style=\"display:none;\">\n",
              "        \n",
              "  <svg xmlns=\"http://www.w3.org/2000/svg\" height=\"24px\"viewBox=\"0 0 24 24\"\n",
              "       width=\"24px\">\n",
              "    <path d=\"M0 0h24v24H0V0z\" fill=\"none\"/>\n",
              "    <path d=\"M18.56 5.44l.94 2.06.94-2.06 2.06-.94-2.06-.94-.94-2.06-.94 2.06-2.06.94zm-11 1L8.5 8.5l.94-2.06 2.06-.94-2.06-.94L8.5 2.5l-.94 2.06-2.06.94zm10 10l.94 2.06.94-2.06 2.06-.94-2.06-.94-.94-2.06-.94 2.06-2.06.94z\"/><path d=\"M17.41 7.96l-1.37-1.37c-.4-.4-.92-.59-1.43-.59-.52 0-1.04.2-1.43.59L10.3 9.45l-7.72 7.72c-.78.78-.78 2.05 0 2.83L4 21.41c.39.39.9.59 1.41.59.51 0 1.02-.2 1.41-.59l7.78-7.78 2.81-2.81c.8-.78.8-2.07 0-2.86zM5.41 20L4 18.59l7.72-7.72 1.47 1.35L5.41 20z\"/>\n",
              "  </svg>\n",
              "      </button>\n",
              "      \n",
              "  <style>\n",
              "    .colab-df-container {\n",
              "      display:flex;\n",
              "      flex-wrap:wrap;\n",
              "      gap: 12px;\n",
              "    }\n",
              "\n",
              "    .colab-df-convert {\n",
              "      background-color: #E8F0FE;\n",
              "      border: none;\n",
              "      border-radius: 50%;\n",
              "      cursor: pointer;\n",
              "      display: none;\n",
              "      fill: #1967D2;\n",
              "      height: 32px;\n",
              "      padding: 0 0 0 0;\n",
              "      width: 32px;\n",
              "    }\n",
              "\n",
              "    .colab-df-convert:hover {\n",
              "      background-color: #E2EBFA;\n",
              "      box-shadow: 0px 1px 2px rgba(60, 64, 67, 0.3), 0px 1px 3px 1px rgba(60, 64, 67, 0.15);\n",
              "      fill: #174EA6;\n",
              "    }\n",
              "\n",
              "    [theme=dark] .colab-df-convert {\n",
              "      background-color: #3B4455;\n",
              "      fill: #D2E3FC;\n",
              "    }\n",
              "\n",
              "    [theme=dark] .colab-df-convert:hover {\n",
              "      background-color: #434B5C;\n",
              "      box-shadow: 0px 1px 3px 1px rgba(0, 0, 0, 0.15);\n",
              "      filter: drop-shadow(0px 1px 2px rgba(0, 0, 0, 0.3));\n",
              "      fill: #FFFFFF;\n",
              "    }\n",
              "  </style>\n",
              "\n",
              "      <script>\n",
              "        const buttonEl =\n",
              "          document.querySelector('#df-2326676f-ec63-4520-8b06-49398d8af793 button.colab-df-convert');\n",
              "        buttonEl.style.display =\n",
              "          google.colab.kernel.accessAllowed ? 'block' : 'none';\n",
              "\n",
              "        async function convertToInteractive(key) {\n",
              "          const element = document.querySelector('#df-2326676f-ec63-4520-8b06-49398d8af793');\n",
              "          const dataTable =\n",
              "            await google.colab.kernel.invokeFunction('convertToInteractive',\n",
              "                                                     [key], {});\n",
              "          if (!dataTable) return;\n",
              "\n",
              "          const docLinkHtml = 'Like what you see? Visit the ' +\n",
              "            '<a target=\"_blank\" href=https://colab.research.google.com/notebooks/data_table.ipynb>data table notebook</a>'\n",
              "            + ' to learn more about interactive tables.';\n",
              "          element.innerHTML = '';\n",
              "          dataTable['output_type'] = 'display_data';\n",
              "          await google.colab.output.renderOutput(dataTable, element);\n",
              "          const docLink = document.createElement('div');\n",
              "          docLink.innerHTML = docLinkHtml;\n",
              "          element.appendChild(docLink);\n",
              "        }\n",
              "      </script>\n",
              "    </div>\n",
              "  </div>\n",
              "  "
            ]
          },
          "metadata": {},
          "execution_count": 2
        }
      ],
      "source": [
        "import numpy as np\n",
        "import pandas as pd\n",
        "import seaborn as sns\n",
        "import matplotlib.pyplot as plt\n",
        "import math\n",
        "\n",
        "data=pd.read_csv(\"/content/data_banknote_authentication.txt\")\n",
        "data.head()"
      ]
    },
    {
      "cell_type": "markdown",
      "source": [
        "Checking for null and '?' values"
      ],
      "metadata": {
        "id": "BQNaZHfIrjcr"
      }
    },
    {
      "cell_type": "code",
      "source": [
        "data.isna().sum()"
      ],
      "metadata": {
        "colab": {
          "base_uri": "https://localhost:8080/"
        },
        "id": "6Z3jktMJrXv7",
        "outputId": "bd03c938-b1aa-4ef4-86ec-b2d27044aeb5"
      },
      "execution_count": 3,
      "outputs": [
        {
          "output_type": "execute_result",
          "data": {
            "text/plain": [
              "variance    0\n",
              "skewness    0\n",
              "curtosis    0\n",
              "entropy     0\n",
              "class       0\n",
              "dtype: int64"
            ]
          },
          "metadata": {},
          "execution_count": 3
        }
      ]
    },
    {
      "cell_type": "code",
      "source": [
        "(data=='?').sum()"
      ],
      "metadata": {
        "colab": {
          "base_uri": "https://localhost:8080/"
        },
        "id": "7XteeA-zsV_A",
        "outputId": "0883c01b-b6c8-4fee-dcfb-f9f86bec6533"
      },
      "execution_count": 4,
      "outputs": [
        {
          "output_type": "execute_result",
          "data": {
            "text/plain": [
              "variance    0\n",
              "skewness    0\n",
              "curtosis    0\n",
              "entropy     0\n",
              "class       0\n",
              "dtype: int64"
            ]
          },
          "metadata": {},
          "execution_count": 4
        }
      ]
    },
    {
      "cell_type": "markdown",
      "source": [
        "Checking for duplicate rows"
      ],
      "metadata": {
        "id": "q0VJN1sMroMJ"
      }
    },
    {
      "cell_type": "code",
      "source": [
        "data.index[data.duplicated()]"
      ],
      "metadata": {
        "colab": {
          "base_uri": "https://localhost:8080/"
        },
        "id": "8pJlvClstJfU",
        "outputId": "9ddb2cee-7c13-4cd7-c1b6-aa3c3424e6ca"
      },
      "execution_count": 5,
      "outputs": [
        {
          "output_type": "execute_result",
          "data": {
            "text/plain": [
              "Int64Index([ 47, 139, 190, 195, 226, 268, 284, 300, 315, 320, 345, 351, 352,\n",
              "            404, 427, 436, 476, 498, 604, 615, 657, 691, 716, 727],\n",
              "           dtype='int64')"
            ]
          },
          "metadata": {},
          "execution_count": 5
        }
      ]
    },
    {
      "cell_type": "code",
      "source": [
        "data=data.drop_duplicates()"
      ],
      "metadata": {
        "id": "8bYzb58J6HOS"
      },
      "execution_count": 6,
      "outputs": []
    },
    {
      "cell_type": "code",
      "source": [
        "data.index[data.duplicated()]"
      ],
      "metadata": {
        "colab": {
          "base_uri": "https://localhost:8080/"
        },
        "id": "kTxMIoy66yDM",
        "outputId": "135398c4-2bab-45e3-a835-8ac75196106e"
      },
      "execution_count": 7,
      "outputs": [
        {
          "output_type": "execute_result",
          "data": {
            "text/plain": [
              "Int64Index([], dtype='int64')"
            ]
          },
          "metadata": {},
          "execution_count": 7
        }
      ]
    },
    {
      "cell_type": "markdown",
      "source": [
        "Checking the number of classes and their count"
      ],
      "metadata": {
        "id": "uG9sf9nYrsoi"
      }
    },
    {
      "cell_type": "code",
      "source": [
        "sns.displot(data,x=\"class\")"
      ],
      "metadata": {
        "colab": {
          "base_uri": "https://localhost:8080/",
          "height": 386
        },
        "id": "jeXQYu368FYj",
        "outputId": "bfc727ee-eea3-4af2-b189-833416244d17"
      },
      "execution_count": 8,
      "outputs": [
        {
          "output_type": "execute_result",
          "data": {
            "text/plain": [
              "<seaborn.axisgrid.FacetGrid at 0x7f840faba610>"
            ]
          },
          "metadata": {},
          "execution_count": 8
        },
        {
          "output_type": "display_data",
          "data": {
            "text/plain": [
              "<Figure size 360x360 with 1 Axes>"
            ],
            "image/png": "[encoded data removed]"
          },
          "metadata": {
            "needs_background": "light"
          }
        }
      ]
    },
    {
      "cell_type": "markdown",
      "source": [
        "Checking outliers"
      ],
      "metadata": {
        "id": "Czls9G_lr2TK"
      }
    },
    {
      "cell_type": "code",
      "source": [
        "for c in list(data.columns)[:4]:\n",
        "  sns.catplot(kind=\"box\",x=\"class\",y=c,data=data)"
      ],
      "metadata": {
        "colab": {
          "base_uri": "https://localhost:8080/",
          "height": 1000
        },
        "id": "-OS_QS8q8S3p",
        "outputId": "20588e6c-bdc6-478d-b2c2-9a7bdbf31783"
      },
      "execution_count": 9,
      "outputs": [
        {
          "output_type": "display_data",
          "data": {
            "text/plain": [
              "<Figure size 360x360 with 1 Axes>"
            ],
            "image/png": "[encoded data removed]"
          },
          "metadata": {
            "needs_background": "light"
          }
        },
        {
          "output_type": "display_data",
          "data": {
            "text/plain": [
              "<Figure size 360x360 with 1 Axes>"
            ],
            "image/png": "[encoded data removed]"
          },
          "metadata": {
            "needs_background": "light"
          }
        },
        {
          "output_type": "display_data",
          "data": {
            "text/plain": [
              "<Figure size 360x360 with 1 Axes>"
            ],
            "image/png": "[encoded data removed]"
          },
          "metadata": {
            "needs_background": "light"
          }
        },
        {
          "output_type": "display_data",
          "data": {
            "text/plain": [
              "<Figure size 360x360 with 1 Axes>"
            ],
            "image/png": "[encoded data removed]"
          },
          "metadata": {
            "needs_background": "light"
          }
        }
      ]
    },
    {
      "cell_type": "markdown",
      "source": [
        "Removing outliers"
      ],
      "metadata": {
        "id": "xsziNxEWr5N6"
      }
    },
    {
      "cell_type": "code",
      "source": [
        "def manageOutliers(dt,c):\n",
        "  lq0=dt[c].loc[(dt['class']==0)].quantile(0.25)\n",
        "  lq1=dt[c].loc[(dt['class']==1)].quantile(0.25)\n",
        "  uq0=dt[c].loc[(dt['class']==0)].quantile(0.75)\n",
        "  uq1=dt[c].loc[(dt['class']==1)].quantile(0.75)\n",
        "  uw0=uq0+1.5*(uq0-lq0)\n",
        "  lw0=lq0-1.5*(uq0-lq0)\n",
        "  uw1=uq1+1.5*(uq1-lq1)\n",
        "  lw1=lq1-1.5*(uq1-lq1)\n",
        "  dt.drop(axis=\"rows\",labels=dt.index[(dt[\"class\"]==0) & ((dt[c]>uw0) | (dt[c]<lw0))],inplace=True)\n",
        "  dt.drop(axis=\"rows\",labels=dt.index[(dt[\"class\"]==1) & ((dt[c]>uw1) | (dt[c]<lw1))],inplace=True)\n",
        "  return dt"
      ],
      "metadata": {
        "id": "QRJa3SUSEUzh"
      },
      "execution_count": 10,
      "outputs": []
    },
    {
      "cell_type": "code",
      "source": [
        "for c in list(data.columns)[:4]:\n",
        "  sns.catplot(kind=\"box\",x=\"class\",y=c,data=data)\n",
        "  data=manageOutliers(data,c)\n",
        "  sns.catplot(kind=\"box\",x=\"class\",y=c,data=data)"
      ],
      "metadata": {
        "colab": {
          "base_uri": "https://localhost:8080/",
          "height": 1000
        },
        "id": "NiqlMCz4IfKq",
        "outputId": "72a6696b-7cce-42a8-b4b9-824084fe9949"
      },
      "execution_count": 11,
      "outputs": [
        {
          "output_type": "display_data",
          "data": {
            "text/plain": [
              "<Figure size 360x360 with 1 Axes>"
            ],
            "image/png": "[encoded data removed]"
          },
          "metadata": {
            "needs_background": "light"
          }
        },
        {
          "output_type": "display_data",
          "data": {
            "text/plain": [
              "<Figure size 360x360 with 1 Axes>"
            ],
            "image/png": "[encoded data removed]"
          },
          "metadata": {
            "needs_background": "light"
          }
        },
        {
          "output_type": "display_data",
          "data": {
            "text/plain": [
              "<Figure size 360x360 with 1 Axes>"
            ],
            "image/png": "[encoded data removed]"
          },
          "metadata": {
            "needs_background": "light"
          }
        },
        {
          "output_type": "display_data",
          "data": {
            "text/plain": [
              "<Figure size 360x360 with 1 Axes>"
            ],
            "image/png": "[encoded data removed]"
          },
          "metadata": {
            "needs_background": "light"
          }
        },
        {
          "output_type": "display_data",
          "data": {
            "text/plain": [
              "<Figure size 360x360 with 1 Axes>"
            ],
            "image/png": "[encoded data removed]"
          },
          "metadata": {
            "needs_background": "light"
          }
        },
        {
          "output_type": "display_data",
          "data": {
            "text/plain": [
              "<Figure size 360x360 with 1 Axes>"
            ],
            "image/png": "[encoded data removed]"
          },
          "metadata": {
            "needs_background": "light"
          }
        },
        {
          "output_type": "display_data",
          "data": {
            "text/plain": [
              "<Figure size 360x360 with 1 Axes>"
            ],
            "image/png": "[encoded data removed]"
          },
          "metadata": {
            "needs_background": "light"
          }
        },
        {
          "output_type": "display_data",
          "data": {
            "text/plain": [
              "<Figure size 360x360 with 1 Axes>"
            ],
            "image/png": "[encoded data removed]"
          },
          "metadata": {
            "needs_background": "light"
          }
        }
      ]
    },
    {
      "cell_type": "markdown",
      "source": [
        "Distribution of data across columns"
      ],
      "metadata": {
        "id": "IJdQHDb6sDKy"
      }
    },
    {
      "cell_type": "code",
      "source": [
        "for c in list(data.columns)[:4]:\n",
        "  sns.displot(data,x=c,hue=data[\"class\"])"
      ],
      "metadata": {
        "colab": {
          "base_uri": "https://localhost:8080/",
          "height": 1000
        },
        "id": "6EI659Jptjgx",
        "outputId": "11dc31a4-dd4b-4d17-ea37-427bde005957"
      },
      "execution_count": 12,
      "outputs": [
        {
          "output_type": "display_data",
          "data": {
            "text/plain": [
              "<Figure size 402.375x360 with 1 Axes>"
            ],
            "image/png": "[encoded data removed]"
          },
          "metadata": {
            "needs_background": "light"
          }
        },
        {
          "output_type": "display_data",
          "data": {
            "text/plain": [
              "<Figure size 402.375x360 with 1 Axes>"
            ],
            "image/png": "[encoded data removed]"
          },
          "metadata": {
            "needs_background": "light"
          }
        },
        {
          "output_type": "display_data",
          "data": {
            "text/plain": [
              "<Figure size 402.375x360 with 1 Axes>"
            ],
            "image/png": "[encoded data removed]"
          },
          "metadata": {
            "needs_background": "light"
          }
        },
        {
          "output_type": "display_data",
          "data": {
            "text/plain": [
              "<Figure size 402.375x360 with 1 Axes>"
            ],
            "image/png": "[encoded data removed]"
          },
          "metadata": {
            "needs_background": "light"
          }
        }
      ]
    },
    {
      "cell_type": "markdown",
      "source": [
        "Looks like gaussian distribution"
      ],
      "metadata": {
        "id": "fY3-me2FsKNB"
      }
    },
    {
      "cell_type": "code",
      "source": [
        "sns.heatmap(data.corr(),annot=True)"
      ],
      "metadata": {
        "colab": {
          "base_uri": "https://localhost:8080/",
          "height": 286
        },
        "id": "Mheats5rgLhZ",
        "outputId": "6eaffedb-35e5-496c-dfb1-920ed5738ed0"
      },
      "execution_count": 13,
      "outputs": [
        {
          "output_type": "execute_result",
          "data": {
            "text/plain": [
              "<matplotlib.axes._subplots.AxesSubplot at 0x7f83f4967410>"
            ]
          },
          "metadata": {},
          "execution_count": 13
        },
        {
          "output_type": "display_data",
          "data": {
            "text/plain": [
              "<Figure size 432x288 with 2 Axes>"
            ],
            "image/png": "[encoded data removed]"
          },
          "metadata": {
            "needs_background": "light"
          }
        }
      ]
    },
    {
      "cell_type": "markdown",
      "source": [
        "We can see that entropy has very less correlation with the class. So if we want we can drop that column. But I will keep it for now and see the results."
      ],
      "metadata": {
        "id": "t72HcJmdgmG6"
      }
    },
    {
      "cell_type": "code",
      "source": [
        "class Normalizer:\n",
        "  def __init__(self,mean,stdev):\n",
        "    self.mean=mean\n",
        "    self.stdev=stdev\n",
        "  def normalize(self,t):\n",
        "    return (t-self.mean)/(self.stdev)"
      ],
      "metadata": {
        "id": "SrUDNwh0Wy_R"
      },
      "execution_count": 14,
      "outputs": []
    },
    {
      "cell_type": "markdown",
      "source": [
        "Normalizing the data"
      ],
      "metadata": {
        "id": "2CT3sFEwsOjx"
      }
    },
    {
      "cell_type": "code",
      "source": [
        "for c in list(data.columns)[:4]:\n",
        "  normalizer=Normalizer(data[c].mean(),data[c].std())\n",
        "  data[c]=data[c].apply(normalizer.normalize)"
      ],
      "metadata": {
        "id": "kGTVA-aMeCR-"
      },
      "execution_count": 15,
      "outputs": []
    },
    {
      "cell_type": "markdown",
      "source": [
        "Train-test split(70-30)"
      ],
      "metadata": {
        "id": "dOuYhOdGsQoR"
      }
    },
    {
      "cell_type": "code",
      "source": [
        "train_set=data.sample(frac=0.7, replace=False)\n",
        "test_set=data.drop(train_set.index)\n",
        "\n",
        "train_x=train_set.drop(columns=[\"class\"])\n",
        "train_y=train_set[\"class\"]\n",
        "\n",
        "test_x=test_set.drop(columns=[\"class\"])\n",
        "test_y=test_set[\"class\"]\n",
        "\n",
        "train_x=train_x.to_numpy()\n",
        "train_y=train_y.to_numpy()\n",
        "test_x=test_x.to_numpy()\n",
        "test_y=test_y.to_numpy()"
      ],
      "metadata": {
        "id": "z0ko0J18g8JN"
      },
      "execution_count": 16,
      "outputs": []
    },
    {
      "cell_type": "markdown",
      "source": [
        "Adding the column for the constant term w0 in the X matrix"
      ],
      "metadata": {
        "id": "mbkLv0c_sUTJ"
      }
    },
    {
      "cell_type": "code",
      "source": [
        "train_x_final=np.insert(train_x,0,1,axis=1)\n",
        "test_x_final=np.insert(test_x,0,1,axis=1)"
      ],
      "metadata": {
        "id": "4GQB91qvlp_J"
      },
      "execution_count": 17,
      "outputs": []
    },
    {
      "cell_type": "markdown",
      "source": [
        "Now we build the models\n",
        "\n",
        "#1. Logistic Regression"
      ],
      "metadata": {
        "id": "j9Eo4NeksQya"
      }
    },
    {
      "cell_type": "code",
      "source": [
        "def sigmoid(w,x):\n",
        "  t=((w.T)@x)\n",
        "  sig=1/(1+np.exp(-t))\n",
        "  return sig"
      ],
      "metadata": {
        "id": "BKyp6UDWsOLm"
      },
      "execution_count": 18,
      "outputs": []
    },
    {
      "cell_type": "code",
      "source": [
        "def gradientDescent(w,x,y,n,alpha):\n",
        "  for i in range(n):\n",
        "    s=[0]*len(x)\n",
        "    for j in range(len(x)):\n",
        "      s[j]=(sigmoid(w,x[j]))\n",
        "    e=y-s\n",
        "    delJ=(x.T@(-e))\n",
        "    w=w-alpha*delJ\n",
        "  return w"
      ],
      "metadata": {
        "id": "8Kxa0XtmvUaz"
      },
      "execution_count": 19,
      "outputs": []
    },
    {
      "cell_type": "markdown",
      "source": [
        "##Multivariate"
      ],
      "metadata": {
        "id": "FwEL7hhvsmLM"
      }
    },
    {
      "cell_type": "markdown",
      "source": [
        "Getting the weights for multivariate logistic regression"
      ],
      "metadata": {
        "id": "tDAkwQ2TscUL"
      }
    },
    {
      "cell_type": "code",
      "source": [
        "W=gradientDescent(np.array([1]*len(train_x_final[0])),train_x_final,train_y,4000,0.1)"
      ],
      "metadata": {
        "id": "4jMGrV671F_7"
      },
      "execution_count": 20,
      "outputs": []
    },
    {
      "cell_type": "code",
      "source": [
        "def predict(w,x):\n",
        "  yp=[]\n",
        "  for i in range(len(x)):\n",
        "    yp.append(sigmoid(w,x[i]))\n",
        "  return yp\n",
        "\n",
        "def findAccuracy(yp,y):\n",
        "  correct=0\n",
        "  wrong=0\n",
        "  tp=0\n",
        "  fp=0\n",
        "  tn=0\n",
        "  fn=0\n",
        "  for i in range(len(yp)):\n",
        "    if(round(yp[i])==y[i]):\n",
        "      correct+=1\n",
        "      if(y[i]==1):\n",
        "        tp+=1\n",
        "      else:\n",
        "        tn+=1\n",
        "    else:\n",
        "      wrong+=1\n",
        "      if(y[i]==1):\n",
        "        fn+=1\n",
        "      else:\n",
        "        fp+=1\n",
        "  percentageAccuracy=correct*100/len(yp)\n",
        "  #pr=tp/(tp+fp)\n",
        "  #rec=tp/(tp+fn)\n",
        "  f1=tp/(tp+(fp+fn)/2)\n",
        "  return correct, wrong, percentageAccuracy, [[tp,fn],[fp,tn]], f1"
      ],
      "metadata": {
        "id": "OzKm5Oe838za"
      },
      "execution_count": 21,
      "outputs": []
    },
    {
      "cell_type": "code",
      "source": [
        "findAccuracy(predict(W,train_x_final),train_y)"
      ],
      "metadata": {
        "colab": {
          "base_uri": "https://localhost:8080/"
        },
        "id": "0NshlaKA5dkK",
        "outputId": "df9ebdb4-e9a7-4d46-b13b-a0cf2e77c1c1"
      },
      "execution_count": 22,
      "outputs": [
        {
          "output_type": "execute_result",
          "data": {
            "text/plain": [
              "(906, 3, 99.66996699669967, [[419, 1], [2, 487]], 0.9964328180737217)"
            ]
          },
          "metadata": {},
          "execution_count": 22
        }
      ]
    },
    {
      "cell_type": "code",
      "source": [
        "findAccuracy(predict(W,test_x_final),test_y)"
      ],
      "metadata": {
        "colab": {
          "base_uri": "https://localhost:8080/"
        },
        "id": "32D2UW-k6w5I",
        "outputId": "c62be6db-9508-49dc-80e0-495d8d9b4465"
      },
      "execution_count": 23,
      "outputs": [
        {
          "output_type": "execute_result",
          "data": {
            "text/plain": [
              "(387, 3, 99.23076923076923, [[156, 2], [1, 231]], 0.9904761904761905)"
            ]
          },
          "metadata": {},
          "execution_count": 23
        }
      ]
    },
    {
      "cell_type": "code",
      "source": [
        "sns.displot(train_set,x=\"class\")"
      ],
      "metadata": {
        "colab": {
          "base_uri": "https://localhost:8080/",
          "height": 386
        },
        "id": "eOaJL9E87WkS",
        "outputId": "06b8ee0c-2787-4791-a0ef-646b1a322aa1"
      },
      "execution_count": 24,
      "outputs": [
        {
          "output_type": "execute_result",
          "data": {
            "text/plain": [
              "<seaborn.axisgrid.FacetGrid at 0x7f83f4c3d450>"
            ]
          },
          "metadata": {},
          "execution_count": 24
        },
        {
          "output_type": "display_data",
          "data": {
            "text/plain": [
              "<Figure size 360x360 with 1 Axes>"
            ],
            "image/png": "[encoded data removed]"
          },
          "metadata": {
            "needs_background": "light"
          }
        }
      ]
    },
    {
      "cell_type": "code",
      "source": [
        "sns.displot(test_set,x=\"class\")"
      ],
      "metadata": {
        "colab": {
          "base_uri": "https://localhost:8080/",
          "height": 386
        },
        "id": "AGchOVmG7oZR",
        "outputId": "7ab4db32-ce7e-4801-ba7f-086e8813c7bb"
      },
      "execution_count": 25,
      "outputs": [
        {
          "output_type": "execute_result",
          "data": {
            "text/plain": [
              "<seaborn.axisgrid.FacetGrid at 0x7f83f4c3c250>"
            ]
          },
          "metadata": {},
          "execution_count": 25
        },
        {
          "output_type": "display_data",
          "data": {
            "text/plain": [
              "<Figure size 360x360 with 1 Axes>"
            ],
            "image/png": "[encoded data removed]"
          },
          "metadata": {
            "needs_background": "light"
          }
        }
      ]
    },
    {
      "cell_type": "markdown",
      "source": [
        "#2. Naive Bayes\n",
        "Univariate"
      ],
      "metadata": {
        "id": "oNs4kCdFVoKI"
      }
    },
    {
      "cell_type": "markdown",
      "source": [
        "We will split the training data according to the classes and get mean and variance for each column wrt each class"
      ],
      "metadata": {
        "id": "1zowl7_9sw7y"
      }
    },
    {
      "cell_type": "code",
      "source": [
        "#Calculating the prior probabilities according to the training data given\n",
        "p1=np.count_nonzero(train_y)/len(train_y)\n",
        "p0=1-p1\n",
        "\n",
        "# to find mean and variance of each class, we need to divide the dataset appropriately first\n",
        "train_x0=[]\n",
        "train_x1=[]\n",
        "for i in range(len(train_x)):\n",
        "  if(train_y[i]==0):\n",
        "    train_x0.append(train_x[i])\n",
        "  else:\n",
        "    train_x1.append(train_x[i])\n",
        "train_x0=np.array(train_x0)\n",
        "train_x1=np.array(train_x1)\n",
        "\n",
        "# mean and variance (of each column)\n",
        "m0=np.mean(train_x0,axis=0,dtype=np.float64)\n",
        "m1=np.mean(train_x1,axis=0,dtype=np.float64)\n",
        "v0=np.var(train_x0,axis=0,dtype=np.float64)\n",
        "v1=np.var(train_x1,axis=0,dtype=np.float64)\n",
        "\n",
        "def N(m,v,x):\n",
        "  return math.exp(-((x-m)**2)/(2*v))/(math.sqrt(2*math.pi*v))"
      ],
      "metadata": {
        "id": "mYOMBj3ZVxCb"
      },
      "execution_count": 26,
      "outputs": []
    },
    {
      "cell_type": "code",
      "source": [
        "def predictNB(m0,v0,m1,v1,x):\n",
        "  gp0=N(m0,v0,x)\n",
        "  gp1=N(m1,v1,x)\n",
        "  if(gp0*p0>gp1*p1):\n",
        "    return 0\n",
        "  else:\n",
        "    return 1\n",
        "\n",
        "colToIndex={\n",
        "    \"variance\":0,\n",
        "    \"skewness\":1,\n",
        "    \"curtosis\":2,\n",
        "    \"entropy\":3\n",
        "}\n",
        "\n",
        "def testModel(feature,x,y):\n",
        "  ftind=colToIndex[feature]\n",
        "  correct=wrong=0\n",
        "  tp=0\n",
        "  fp=0\n",
        "  tn=0\n",
        "  fn=0\n",
        "  for i in range(len(x)):\n",
        "    ypi=predictNB(m0[ftind],v0[ftind],m1[ftind],v1[ftind],x[i][ftind])\n",
        "    if(ypi==y[i]):\n",
        "      correct+=1\n",
        "      if(y[i]==1):\n",
        "        tp+=1\n",
        "      else:\n",
        "        tn+=1\n",
        "    else:\n",
        "      wrong+=1\n",
        "      if(y[i]==1):\n",
        "        fn+=1\n",
        "      else:\n",
        "        fp+=1\n",
        "  #pr=tp/(tp+fp)\n",
        "  #rec=tp/(tp+fn)\n",
        "  f1=tp/(tp+(fp+fn)/2)\n",
        "  #returns correct guesses, wrong guesses, acurracy %, confusion matrix, and f1 score\n",
        "  return correct,wrong,correct*100/len(y), [[tp,fn],[fp,tn]], f1\n"
      ],
      "metadata": {
        "id": "XmtRyyF5bg6v"
      },
      "execution_count": 27,
      "outputs": []
    },
    {
      "cell_type": "code",
      "source": [
        "from scipy.stats import norm\n",
        "def plotGaussian(m0,s0,m1,s1,title):\n",
        "  x0=np.linspace(m0-3*s0,m0+3*s0,1000)\n",
        "  x1=np.linspace(m1-3*s1,m1+3*s1,1000)\n",
        "  plt.plot(x0,norm.pdf(x0,m0,s0))\n",
        "  plt.plot(x0,norm.pdf(x1,m1,s1))\n",
        "  plt.title(title)\n",
        "  plt.xlabel(\"x\")\n",
        "  plt.ylabel(\"p(x)\")\n",
        "  plt.legend(['0','1'])"
      ],
      "metadata": {
        "id": "9FUefjFwl_h9"
      },
      "execution_count": 28,
      "outputs": []
    },
    {
      "cell_type": "markdown",
      "source": [
        "We will test using every column/featue one by one"
      ],
      "metadata": {
        "id": "LzlyO-Nod8le"
      }
    },
    {
      "cell_type": "markdown",
      "source": [
        "I can choose to just do this for a few columns/features with high correlation with output, but lets try to build a model with each one and see the if the correlation trend follows in the performances."
      ],
      "metadata": {
        "id": "S3yGe684uevq"
      }
    },
    {
      "cell_type": "markdown",
      "source": [
        "##Variance"
      ],
      "metadata": {
        "id": "0wNxWVv_hTRm"
      }
    },
    {
      "cell_type": "code",
      "source": [
        "testModel(\"variance\",train_x,train_y)"
      ],
      "metadata": {
        "colab": {
          "base_uri": "https://localhost:8080/"
        },
        "id": "i_UmdpPleEZd",
        "outputId": "c98a52db-807c-4770-acaa-1c2d40e44aff"
      },
      "execution_count": 29,
      "outputs": [
        {
          "output_type": "execute_result",
          "data": {
            "text/plain": [
              "(787, 122, 86.57865786578658, [[357, 63], [59, 430]], 0.854066985645933)"
            ]
          },
          "metadata": {},
          "execution_count": 29
        }
      ]
    },
    {
      "cell_type": "code",
      "source": [
        "plotGaussian(m0[0],math.sqrt(v0[0]),m1[0],math.sqrt(v1[0]),\"variance\")"
      ],
      "metadata": {
        "colab": {
          "base_uri": "https://localhost:8080/",
          "height": 295
        },
        "id": "Q4uW0itznbhJ",
        "outputId": "c4981f1a-c35f-46d0-baae-97079e5fe74d"
      },
      "execution_count": 31,
      "outputs": [
        {
          "output_type": "display_data",
          "data": {
            "text/plain": [
              "<Figure size 432x288 with 1 Axes>"
            ],
            "image/png": "[encoded data removed]"
          },
          "metadata": {
            "needs_background": "light"
          }
        }
      ]
    },
    {
      "cell_type": "code",
      "source": [
        "testModel(\"variance\",test_x,test_y)"
      ],
      "metadata": {
        "colab": {
          "base_uri": "https://localhost:8080/"
        },
        "id": "vnyuXT97hNCm",
        "outputId": "3d78fc60-2c3b-4c29-9b49-d8930eff29c1"
      },
      "execution_count": 32,
      "outputs": [
        {
          "output_type": "execute_result",
          "data": {
            "text/plain": [
              "(336, 54, 86.15384615384616, [[141, 17], [37, 195]], 0.8392857142857143)"
            ]
          },
          "metadata": {},
          "execution_count": 32
        }
      ]
    },
    {
      "cell_type": "markdown",
      "source": [
        "##Skewness"
      ],
      "metadata": {
        "id": "7N_En2uxheM3"
      }
    },
    {
      "cell_type": "code",
      "source": [
        "testModel(\"skewness\",train_x,train_y)"
      ],
      "metadata": {
        "colab": {
          "base_uri": "https://localhost:8080/"
        },
        "id": "nHonIvErhgBu",
        "outputId": "d8d8da38-1c8c-47fb-f46e-9275fcaef60a"
      },
      "execution_count": 33,
      "outputs": [
        {
          "output_type": "execute_result",
          "data": {
            "text/plain": [
              "(595, 314, 65.45654565456546, [[236, 184], [130, 359]], 0.6005089058524173)"
            ]
          },
          "metadata": {},
          "execution_count": 33
        }
      ]
    },
    {
      "cell_type": "code",
      "source": [
        "plotGaussian(m0[1],math.sqrt(v0[1]),m1[1],math.sqrt(v1[1]),\"skewness\")"
      ],
      "metadata": {
        "colab": {
          "base_uri": "https://localhost:8080/",
          "height": 295
        },
        "id": "OZoICPBmpM2u",
        "outputId": "29661178-2751-4fdd-dfd8-94976c6db789"
      },
      "execution_count": 34,
      "outputs": [
        {
          "output_type": "display_data",
          "data": {
            "text/plain": [
              "<Figure size 432x288 with 1 Axes>"
            ],
            "image/png": "[encoded data removed]"
          },
          "metadata": {
            "needs_background": "light"
          }
        }
      ]
    },
    {
      "cell_type": "code",
      "source": [
        "testModel(\"skewness\",test_x,test_y)"
      ],
      "metadata": {
        "colab": {
          "base_uri": "https://localhost:8080/"
        },
        "id": "zDvTM6cwhjW_",
        "outputId": "8368928f-7847-4c01-9e7c-40a33037e686"
      },
      "execution_count": 35,
      "outputs": [
        {
          "output_type": "execute_result",
          "data": {
            "text/plain": [
              "(255, 135, 65.38461538461539, [[91, 67], [68, 164]], 0.5741324921135647)"
            ]
          },
          "metadata": {},
          "execution_count": 35
        }
      ]
    },
    {
      "cell_type": "markdown",
      "source": [
        "##Curtosis"
      ],
      "metadata": {
        "id": "4Yqsg9jchzrM"
      }
    },
    {
      "cell_type": "code",
      "source": [
        "testModel(\"curtosis\",train_x,train_y)"
      ],
      "metadata": {
        "colab": {
          "base_uri": "https://localhost:8080/"
        },
        "outputId": "8bdbd9ad-420a-4904-e972-7e8a0ecc7638",
        "id": "PLQYFJiVhzrN"
      },
      "execution_count": 36,
      "outputs": [
        {
          "output_type": "execute_result",
          "data": {
            "text/plain": [
              "(562, 347, 61.826182618261825, [[131, 289], [58, 431]], 0.4302134646962233)"
            ]
          },
          "metadata": {},
          "execution_count": 36
        }
      ]
    },
    {
      "cell_type": "code",
      "source": [
        "plotGaussian(m0[2],math.sqrt(v0[2]),m1[2],math.sqrt(v1[2]),\"curtosis\")"
      ],
      "metadata": {
        "colab": {
          "base_uri": "https://localhost:8080/",
          "height": 295
        },
        "id": "CRhiqMsipRJ9",
        "outputId": "4515d05a-a56c-4f25-c34f-6575578f38d5"
      },
      "execution_count": 37,
      "outputs": [
        {
          "output_type": "display_data",
          "data": {
            "text/plain": [
              "<Figure size 432x288 with 1 Axes>"
            ],
            "image/png": "[encoded data removed]"
          },
          "metadata": {
            "needs_background": "light"
          }
        }
      ]
    },
    {
      "cell_type": "code",
      "source": [
        "testModel(\"curtosis\",test_x,test_y)"
      ],
      "metadata": {
        "colab": {
          "base_uri": "https://localhost:8080/"
        },
        "outputId": "b9da4d89-fb2c-4d0d-c5e3-4a8ebcf1c2ff",
        "id": "fMONd6BIhzrN"
      },
      "execution_count": 38,
      "outputs": [
        {
          "output_type": "execute_result",
          "data": {
            "text/plain": [
              "(253, 137, 64.87179487179488, [[49, 109], [28, 204]], 0.41702127659574467)"
            ]
          },
          "metadata": {},
          "execution_count": 38
        }
      ]
    },
    {
      "cell_type": "markdown",
      "source": [
        "##Entropy"
      ],
      "metadata": {
        "id": "Yk0dv_h-h-wj"
      }
    },
    {
      "cell_type": "code",
      "source": [
        "testModel(\"entropy\",train_x,train_y)"
      ],
      "metadata": {
        "colab": {
          "base_uri": "https://localhost:8080/"
        },
        "outputId": "840fe19d-683b-4853-e0c5-bf51b2e7d729",
        "id": "H4ZIMXTmh-wj"
      },
      "execution_count": 39,
      "outputs": [
        {
          "output_type": "execute_result",
          "data": {
            "text/plain": [
              "(489, 420, 53.79537953795379, [[0, 420], [0, 489]], 0.0)"
            ]
          },
          "metadata": {},
          "execution_count": 39
        }
      ]
    },
    {
      "cell_type": "markdown",
      "source": [
        "As we saw earlier, entropy had very less correlation with class, it is now evident with the poor perfomance of our model."
      ],
      "metadata": {
        "id": "4lZsUArJtu4S"
      }
    },
    {
      "cell_type": "markdown",
      "source": [
        "Our model only predicts 0 here."
      ],
      "metadata": {
        "id": "miw4c9UWKhNo"
      }
    },
    {
      "cell_type": "code",
      "source": [
        "plotGaussian(m0[3],math.sqrt(v0[3]),m1[3],math.sqrt(v1[3]),\"entropy\")"
      ],
      "metadata": {
        "colab": {
          "base_uri": "https://localhost:8080/",
          "height": 295
        },
        "id": "2dbjf_3EpZnn",
        "outputId": "2062cdd0-4303-4813-d5a4-aa770bdaa06e"
      },
      "execution_count": 40,
      "outputs": [
        {
          "output_type": "display_data",
          "data": {
            "text/plain": [
              "<Figure size 432x288 with 1 Axes>"
            ],
            "image/png": "[encoded data removed]"
          },
          "metadata": {
            "needs_background": "light"
          }
        }
      ]
    },
    {
      "cell_type": "code",
      "source": [
        "testModel(\"entropy\",test_x,test_y)"
      ],
      "metadata": {
        "colab": {
          "base_uri": "https://localhost:8080/"
        },
        "outputId": "08926f23-7dab-4d44-c2d5-71ff01025525",
        "id": "zhdOpM0uh-wj"
      },
      "execution_count": 41,
      "outputs": [
        {
          "output_type": "execute_result",
          "data": {
            "text/plain": [
              "(232, 158, 59.48717948717949, [[0, 158], [0, 232]], 0.0)"
            ]
          },
          "metadata": {},
          "execution_count": 41
        }
      ]
    },
    {
      "cell_type": "markdown",
      "source": [
        "So its clear that with decreasing correlation with output, model performance decreases."
      ],
      "metadata": {
        "id": "Uq4gFzxYuwqb"
      }
    },
    {
      "cell_type": "markdown",
      "source": [
        "Multivariate Gaussian"
      ],
      "metadata": {
        "id": "eOdDwdfUvBmq"
      }
    },
    {
      "cell_type": "markdown",
      "source": [
        "I will not implement this but try to come with a few combinations of features that could give good results with multivariate gaussian."
      ],
      "metadata": {
        "id": "EZ102OoHvId6"
      }
    },
    {
      "cell_type": "markdown",
      "source": [
        "We try to have the features as mutually independent as possible"
      ],
      "metadata": {
        "id": "UqJiQ5e40J8y"
      }
    },
    {
      "cell_type": "markdown",
      "source": [
        "So we should have those features together that have less correlation among themselves."
      ],
      "metadata": {
        "id": "DCRf0u5IvTSy"
      }
    },
    {
      "cell_type": "code",
      "source": [
        "sns.heatmap(data.corr(),annot=True)"
      ],
      "metadata": {
        "colab": {
          "base_uri": "https://localhost:8080/",
          "height": 286
        },
        "id": "Ik7tYmj10Rcj",
        "outputId": "7bc40a12-5493-43de-fca8-e22c1727fe40"
      },
      "execution_count": 42,
      "outputs": [
        {
          "output_type": "execute_result",
          "data": {
            "text/plain": [
              "<matplotlib.axes._subplots.AxesSubplot at 0x7f83f50e5710>"
            ]
          },
          "metadata": {},
          "execution_count": 42
        },
        {
          "output_type": "display_data",
          "data": {
            "text/plain": [
              "<Figure size 432x288 with 2 Axes>"
            ],
            "image/png": "[encoded data removed]"
          },
          "metadata": {
            "needs_background": "light"
          }
        }
      ]
    },
    {
      "cell_type": "markdown",
      "source": [
        "So some good choices will be(for two features lets say):\n",
        "* variance and entropy\n",
        "* variance and skewness (would be best because corr with output is high)\n",
        "* curtosis and entropy <br>\n",
        "etc. <br>\n",
        "Choosing skewness and curtosis would be a bad idea. <br>\n",
        "For 3 features:\n",
        "* variance, entropy and curtosis\n",
        "* variance, skewness and entropy"
      ],
      "metadata": {
        "id": "V2EZ1jet1Jxc"
      }
    },
    {
      "cell_type": "markdown",
      "source": [
        "#3. Univariate Logistic regression"
      ],
      "metadata": {
        "id": "M5Q9yFarb1UK"
      }
    },
    {
      "cell_type": "markdown",
      "source": [
        "Getting the individual feature matrices"
      ],
      "metadata": {
        "id": "3MtPsBAcuDz6"
      }
    },
    {
      "cell_type": "code",
      "source": [
        "train_x1=np.array([train_x_final[:,0], train_x_final[:,1]]).T\n",
        "train_x2=np.array([train_x_final[:,0], train_x_final[:,2]]).T\n",
        "train_x3=np.array([train_x_final[:,0], train_x_final[:,3]]).T\n",
        "train_x4=np.array([train_x_final[:,0], train_x_final[:,4]]).T\n",
        "\n",
        "test_x1=np.array([test_x_final[:,0], test_x_final[:,1]]).T\n",
        "test_x2=np.array([test_x_final[:,0], test_x_final[:,2]]).T\n",
        "test_x3=np.array([test_x_final[:,0], test_x_final[:,3]]).T\n",
        "test_x4=np.array([test_x_final[:,0], test_x_final[:,4]]).T"
      ],
      "metadata": {
        "id": "m-RMQzFgekPc"
      },
      "execution_count": 43,
      "outputs": []
    },
    {
      "cell_type": "markdown",
      "source": [
        "Variance"
      ],
      "metadata": {
        "id": "aqxLZup9csbz"
      }
    },
    {
      "cell_type": "code",
      "source": [
        "Wgd=gradientDescent(np.array([1]*2),train_x1,train_y,4000,0.1)\n",
        "findAccuracy(predict(Wgd,train_x1),train_y)"
      ],
      "metadata": {
        "id": "jw2D5BkGb4Qw",
        "colab": {
          "base_uri": "https://localhost:8080/"
        },
        "outputId": "6990234c-bd21-4008-f002-9552d69a04b5"
      },
      "execution_count": 44,
      "outputs": [
        {
          "output_type": "execute_result",
          "data": {
            "text/plain": [
              "(784, 125, 86.24862486248625, [[353, 67], [58, 431]], 0.8495788206979543)"
            ]
          },
          "metadata": {},
          "execution_count": 44
        }
      ]
    },
    {
      "cell_type": "code",
      "source": [
        "findAccuracy(predict(Wgd,test_x1),test_y)"
      ],
      "metadata": {
        "colab": {
          "base_uri": "https://localhost:8080/"
        },
        "id": "u-2YI-dddYqN",
        "outputId": "82674a62-86f6-4f36-82ea-f428379da45d"
      },
      "execution_count": 45,
      "outputs": [
        {
          "output_type": "execute_result",
          "data": {
            "text/plain": [
              "(335, 55, 85.8974358974359, [[139, 19], [36, 196]], 0.8348348348348348)"
            ]
          },
          "metadata": {},
          "execution_count": 45
        }
      ]
    },
    {
      "cell_type": "markdown",
      "source": [
        "Skewness"
      ],
      "metadata": {
        "id": "H-QiuztbiwxQ"
      }
    },
    {
      "cell_type": "code",
      "source": [
        "Wgd=gradientDescent(np.array([1]*2),train_x2,train_y,4000,0.1)\n",
        "findAccuracy(predict(Wgd,train_x2),train_y)"
      ],
      "metadata": {
        "colab": {
          "base_uri": "https://localhost:8080/"
        },
        "outputId": "dc9f8a20-1d1f-4d77-c6a6-284b6c8d7936",
        "id": "VxZPGaEYiwxW"
      },
      "execution_count": 46,
      "outputs": [
        {
          "output_type": "execute_result",
          "data": {
            "text/plain": [
              "(314, 595, 34.54345434543454, [[98, 322], [273, 216]], 0.24778761061946902)"
            ]
          },
          "metadata": {},
          "execution_count": 46
        }
      ]
    },
    {
      "cell_type": "code",
      "source": [
        "findAccuracy(predict(Wgd,test_x2),test_y)"
      ],
      "metadata": {
        "colab": {
          "base_uri": "https://localhost:8080/"
        },
        "outputId": "eda348f8-8e02-421f-9c0e-671c41eb3624",
        "id": "bYFmIQtciwxa"
      },
      "execution_count": 47,
      "outputs": [
        {
          "output_type": "execute_result",
          "data": {
            "text/plain": [
              "(126, 264, 32.30769230769231, [[33, 125], [139, 93]], 0.2)"
            ]
          },
          "metadata": {},
          "execution_count": 47
        }
      ]
    },
    {
      "cell_type": "markdown",
      "source": [
        "Curtosis"
      ],
      "metadata": {
        "id": "AKfPVIuDixon"
      }
    },
    {
      "cell_type": "code",
      "source": [
        "Wgd=gradientDescent(np.array([1]*2),train_x3,train_y,4000,0.1)\n",
        "findAccuracy(predict(Wgd,train_x3),train_y)"
      ],
      "metadata": {
        "colab": {
          "base_uri": "https://localhost:8080/"
        },
        "outputId": "4758ba2b-9eed-4388-8529-bf402222c7db",
        "id": "cb6ZsDKBixon"
      },
      "execution_count": 48,
      "outputs": [
        {
          "output_type": "execute_result",
          "data": {
            "text/plain": [
              "(489, 420, 53.79537953795379, [[0, 420], [0, 489]], 0.0)"
            ]
          },
          "metadata": {},
          "execution_count": 48
        }
      ]
    },
    {
      "cell_type": "code",
      "source": [
        "findAccuracy(predict(Wgd,test_x3),test_y)"
      ],
      "metadata": {
        "colab": {
          "base_uri": "https://localhost:8080/"
        },
        "outputId": "95208263-ed3f-4d6c-953e-2b44e2f4b043",
        "id": "TbiOUoQmixoo"
      },
      "execution_count": 49,
      "outputs": [
        {
          "output_type": "execute_result",
          "data": {
            "text/plain": [
              "(232, 158, 59.48717948717949, [[0, 158], [0, 232]], 0.0)"
            ]
          },
          "metadata": {},
          "execution_count": 49
        }
      ]
    },
    {
      "cell_type": "markdown",
      "source": [
        "Entropy"
      ],
      "metadata": {
        "id": "n44T2WiXiyBy"
      }
    },
    {
      "cell_type": "code",
      "source": [
        "Wgd=gradientDescent(np.array([1]*2),train_x4,train_y,4000,0.1)\n",
        "findAccuracy(predict(Wgd,train_x4),train_y)"
      ],
      "metadata": {
        "colab": {
          "base_uri": "https://localhost:8080/"
        },
        "outputId": "e8f3a70a-5a1e-49c1-b4d6-b7b69b4174db",
        "id": "pkYGc50giyBy"
      },
      "execution_count": 50,
      "outputs": [
        {
          "output_type": "execute_result",
          "data": {
            "text/plain": [
              "(489, 420, 53.79537953795379, [[0, 420], [0, 489]], 0.0)"
            ]
          },
          "metadata": {},
          "execution_count": 50
        }
      ]
    },
    {
      "cell_type": "code",
      "source": [
        "findAccuracy(predict(Wgd,test_x4),test_y)"
      ],
      "metadata": {
        "colab": {
          "base_uri": "https://localhost:8080/"
        },
        "outputId": "11e27371-dad5-4f61-947b-4e6ab6347ff3",
        "id": "P0uP4Y2ZiyBz"
      },
      "execution_count": 51,
      "outputs": [
        {
          "output_type": "execute_result",
          "data": {
            "text/plain": [
              "(232, 158, 59.48717948717949, [[0, 158], [0, 232]], 0.0)"
            ]
          },
          "metadata": {},
          "execution_count": 51
        }
      ]
    },
    {
      "cell_type": "markdown",
      "source": [
        "Very low f1 score shows how bad this model is."
      ],
      "metadata": {
        "id": "rt38XR7SU2Vc"
      }
    },
    {
      "cell_type": "markdown",
      "source": [
        "We can see that with lesser correlation with output, our model for that column/feature performs more and more poorly."
      ],
      "metadata": {
        "id": "Wn8dj88uuRqB"
      }
    }
  ]
}